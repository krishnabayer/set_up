{
 "cells": [
  {
   "cell_type": "markdown",
   "id": "bc9c3c86",
   "metadata": {},
   "source": [
    "# Import Librarys"
   ]
  },
  {
   "cell_type": "code",
   "execution_count": 1,
   "id": "4d24631f",
   "metadata": {},
   "outputs": [],
   "source": [
    "import numpy as np\n",
    "import pandas as pd\n",
    "from sklearn.datasets import  load_breast_cancer as cancer\n",
    "from sklearn.pipeline import make_pipeline\n",
    "from sklearn.preprocessing import StandardScaler\n",
    "from sklearn.svm import SVC\n",
    "import seaborn as sns\n",
    "from sklearn.model_selection import train_test_split\n",
    "from sklearn.model_selection import GridSearchCV\n",
    "from sklearn.metrics import classification_report, confusion_matrix  \n",
    "from joblib import load, dump"
   ]
  },
  {
   "cell_type": "markdown",
   "id": "e37ab005",
   "metadata": {},
   "source": [
    "# Inference data"
   ]
  },
  {
   "cell_type": "code",
   "execution_count": 2,
   "id": "818b6d6b",
   "metadata": {},
   "outputs": [],
   "source": [
    "data = cancer()\n",
    "x = data['data']\n",
    "y = data['target']"
   ]
  },
  {
   "cell_type": "code",
   "execution_count": 25,
   "id": "edfe6bf7",
   "metadata": {},
   "outputs": [
    {
     "name": "stdout",
     "output_type": "stream",
     "text": [
      "[1.450e+01 1.089e+01 9.428e+01 6.407e+02 1.101e-01 1.099e-01 8.842e-02\n",
      " 5.778e-02 1.856e-01 6.402e-02 2.929e-01 8.570e-01 1.928e+00 2.419e+01\n",
      " 3.818e-03 1.276e-02 2.882e-02 1.200e-02 1.910e-02 2.808e-03 1.570e+01\n",
      " 1.598e+01 1.028e+02 7.455e+02 1.313e-01 1.788e-01 2.560e-01 1.221e-01\n",
      " 2.889e-01 8.006e-02]\n"
     ]
    }
   ],
   "source": [
    "print(x[123])"
   ]
  },
  {
   "cell_type": "code",
   "execution_count": 26,
   "id": "70dfc93e",
   "metadata": {},
   "outputs": [
    {
     "name": "stdout",
     "output_type": "stream",
     "text": [
      "1\n"
     ]
    }
   ],
   "source": [
    "print(y[123])"
   ]
  },
  {
   "cell_type": "markdown",
   "id": "28117eb3",
   "metadata": {},
   "source": [
    "# Load model"
   ]
  },
  {
   "cell_type": "code",
   "execution_count": 4,
   "id": "b40bebbc",
   "metadata": {},
   "outputs": [],
   "source": [
    "svc_model = load('svc_model.joblib')\n",
    "data_scaler = load('scaler.joblib')"
   ]
  },
  {
   "cell_type": "markdown",
   "id": "523f0dad",
   "metadata": {},
   "source": [
    "# Inference Code "
   ]
  },
  {
   "cell_type": "code",
   "execution_count": 22,
   "id": "8c97dbef",
   "metadata": {},
   "outputs": [],
   "source": [
    "def predict_breast_cancer(feature_list):\n",
    "    inference_data = feature_list\n",
    "    scaled_data = data_scaler.transform([inference_data])\n",
    "    prediction = svc_model.predict(scaled_data)\n",
    "    if prediction[0]==1:\n",
    "        print('breast cancer identified')\n",
    "    else:\n",
    "        print('breast cancer not present')\n",
    "    return prediction[0]    "
   ]
  },
  {
   "cell_type": "markdown",
   "id": "49b99d4c",
   "metadata": {},
   "source": [
    "# Predict model output"
   ]
  },
  {
   "cell_type": "code",
   "execution_count": 27,
   "id": "48bfcdae",
   "metadata": {},
   "outputs": [
    {
     "name": "stdout",
     "output_type": "stream",
     "text": [
      "breast cancer identified\n"
     ]
    },
    {
     "data": {
      "text/plain": [
       "1"
      ]
     },
     "execution_count": 27,
     "metadata": {},
     "output_type": "execute_result"
    }
   ],
   "source": [
    "predict_breast_cancer(x[123])"
   ]
  },
  {
   "cell_type": "code",
   "execution_count": null,
   "id": "7355e0f1",
   "metadata": {},
   "outputs": [],
   "source": []
  }
 ],
 "metadata": {
  "kernelspec": {
   "display_name": "Python 3 (ipykernel)",
   "language": "python",
   "name": "python3"
  },
  "language_info": {
   "codemirror_mode": {
    "name": "ipython",
    "version": 3
   },
   "file_extension": ".py",
   "mimetype": "text/x-python",
   "name": "python",
   "nbconvert_exporter": "python",
   "pygments_lexer": "ipython3",
   "version": "3.8.5"
  }
 },
 "nbformat": 4,
 "nbformat_minor": 5
}
